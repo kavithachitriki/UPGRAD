{
 "cells": [
  {
   "cell_type": "code",
   "execution_count": 1,
   "id": "617b0130",
   "metadata": {},
   "outputs": [
    {
     "name": "stdout",
     "output_type": "stream",
     "text": [
      "Problem Solving Session\n"
     ]
    }
   ],
   "source": [
    "print(\"Problem Solving Session\")"
   ]
  },
  {
   "cell_type": "code",
   "execution_count": null,
   "id": "def0ebf2",
   "metadata": {},
   "outputs": [],
   "source": [
    "## Question 1: Take three inputs from the user\n",
    "## Principal Amount\n",
    "## Rate of interest\n",
    "## Time\n",
    "## Write a code to calculate simple interest from the given input\n",
    "## Hint: S.I. = (PXRXT)/100\n",
    "## Sample Input--> P=1000 R=5% T=2 yrs\n",
    "## Output--> 100"
   ]
  },
  {
   "cell_type": "code",
   "execution_count": 2,
   "id": "5245f830",
   "metadata": {},
   "outputs": [
    {
     "name": "stdout",
     "output_type": "stream",
     "text": [
      "1000\n",
      "5\n",
      "2\n",
      "100.0\n"
     ]
    }
   ],
   "source": [
    "principle=float(input())\n",
    "roi=float(input())\n",
    "time=float(input())\n",
    "si=principle*roi*time/100\n",
    "print(si)"
   ]
  },
  {
   "cell_type": "markdown",
   "id": "67e3ebbd",
   "metadata": {},
   "source": [
    "Question-2: Write a program which will find all such numbers which are divisible by 7 but are not a multiple of 5, between 2000 and 3200 (both included).The numbers obtained should be printed in a comma-separated sequence on a single line. Sample Output: \n",
    "\n",
    "2002,2009,2016,2023,2037,2044,2051,2058,2072,2079,2086,2093,2107,2114,2121,2128,2142,2149,2156,2163,2177,2184,2191,2198,2212,2219,2226,2233,2247,2254,2261,2268,2282,2289,2296,2303,2317,2324,2331,2338,2352,2359,2366,2373,2387,2394,2401,2408,2422,2429,2436,2443,2457,2464,2471,2478,2492,2499,2506,2513,2527,2534,2541,2548,2562,2569,2576,2583,2597,2604,2611,2618,2632,2639,2646,2653,2667,2674,2681,2688,2702,2709,2716,2723,2737,2744,2751,2758,2772,2779,2786,2793,2807,2814,2821,2828,2842,2849,2856,2863,2877,2884,2891,2898,2912,2919,2926,2933,2947,2954,2961,2968,2982,2989,2996,3003,3017,3024,3031,3038,3052,3059,3066,3073,3087,3094,3101,3108,3122,3129,3136,3143,3157,3164,3171,3178,3192,3199\n",
    "\n",
    "\n"
   ]
  },
  {
   "cell_type": "code",
   "execution_count": 6,
   "id": "116ddfbe",
   "metadata": {},
   "outputs": [
    {
     "name": "stdout",
     "output_type": "stream",
     "text": [
      "2002,2009,2016,2023,2037,2044,2051,2058,2072,2079,2086,2093,2107,2114,2121,2128,2142,2149,2156,2163,2177,2184,2191,2198,2212,2219,2226,2233,2247,2254,2261,2268,2282,2289,2296,2303,2317,2324,2331,2338,2352,2359,2366,2373,2387,2394,2401,2408,2422,2429,2436,2443,2457,2464,2471,2478,2492,2499,2506,2513,2527,2534,2541,2548,2562,2569,2576,2583,2597,2604,2611,2618,2632,2639,2646,2653,2667,2674,2681,2688,2702,2709,2716,2723,2737,2744,2751,2758,2772,2779,2786,2793,2807,2814,2821,2828,2842,2849,2856,2863,2877,2884,2891,2898,2912,2919,2926,2933,2947,2954,2961,2968,2982,2989,2996,3003,3017,3024,3031,3038,3052,3059,3066,3073,3087,3094,3101,3108,3122,3129,3136,3143,3157,3164,3171,3178,3192,3199\n"
     ]
    }
   ],
   "source": [
    "ls=[]\n",
    "for i in range(2000,3201):\n",
    "    if i%5!=0 and i%7==0:\n",
    "        ls.append(str(i))\n",
    "#print(ls)\n",
    "print(\",\".join(ls))"
   ]
  },
  {
   "cell_type": "code",
   "execution_count": 9,
   "id": "db7f59cf",
   "metadata": {},
   "outputs": [
    {
     "name": "stdout",
     "output_type": "stream",
     "text": [
      "2002,2009,2016,2023,2037,2044,2051,2058,2072,2079,2086,2093,2107,2114,2121,2128,2142,2149,2156,2163,2177,2184,2191,2198,2212,2219,2226,2233,2247,2254,2261,2268,2282,2289,2296,2303,2317,2324,2331,2338,2352,2359,2366,2373,2387,2394,2401,2408,2422,2429,2436,2443,2457,2464,2471,2478,2492,2499,2506,2513,2527,2534,2541,2548,2562,2569,2576,2583,2597,2604,2611,2618,2632,2639,2646,2653,2667,2674,2681,2688,2702,2709,2716,2723,2737,2744,2751,2758,2772,2779,2786,2793,2807,2814,2821,2828,2842,2849,2856,2863,2877,2884,2891,2898,2912,2919,2926,2933,2947,2954,2961,2968,2982,2989,2996,3003,3017,3024,3031,3038,3052,3059,3066,3073,3087,3094,3101,3108,3122,3129,3136,3143,3157,3164,3171,3178,3192,3199\n"
     ]
    }
   ],
   "source": [
    "print(\",\".join([str(i) for i in range(2000,3201) if i%5!=0 and i%7==0]))\n",
    "\n"
   ]
  },
  {
   "cell_type": "markdown",
   "id": "39bd32ba",
   "metadata": {},
   "source": [
    "Question-3:Write a program which can compute the factorial of a given numbers.Suppose the following input is supplied to the program: 8 Then, the output should be:40320\n",
    "\n",
    "Hints: In case of input data being supplied to the question, it should be assumed to be a console input. Not allowed to use recursion"
   ]
  },
  {
   "cell_type": "code",
   "execution_count": 11,
   "id": "7155af2b",
   "metadata": {},
   "outputs": [
    {
     "name": "stdout",
     "output_type": "stream",
     "text": [
      "8\n",
      "40320\n"
     ]
    }
   ],
   "source": [
    "num=int(input())\n",
    "fact=1\n",
    "for i in range(1,num+1):\n",
    "    fact=fact*i\n",
    "print(fact)"
   ]
  },
  {
   "cell_type": "code",
   "execution_count": 12,
   "id": "0af32d6e",
   "metadata": {},
   "outputs": [],
   "source": [
    "from functools import reduce"
   ]
  },
  {
   "cell_type": "code",
   "execution_count": null,
   "id": "2e9a87ef",
   "metadata": {},
   "outputs": [],
   "source": [
    "[1,2,3,4,5,6,7,8]--> 40320"
   ]
  },
  {
   "cell_type": "code",
   "execution_count": 14,
   "id": "a47ac744",
   "metadata": {},
   "outputs": [
    {
     "name": "stdout",
     "output_type": "stream",
     "text": [
      "8\n"
     ]
    },
    {
     "data": {
      "text/plain": [
       "40320"
      ]
     },
     "execution_count": 14,
     "metadata": {},
     "output_type": "execute_result"
    }
   ],
   "source": [
    "reduce(lambda x,y:x*y,range(1,int(input())+1))"
   ]
  },
  {
   "cell_type": "code",
   "execution_count": null,
   "id": "821f0984",
   "metadata": {},
   "outputs": [],
   "source": [
    "x=1\n",
    "y=2\n",
    "return 1*2=2\n",
    "x=2\n",
    "y=3\n",
    "return 2*3=6\n",
    "x=6\n",
    "y=4\n",
    "return 6*4=24\n",
    "x=24\n",
    "y=5\n",
    "return 24*5=120\n",
    "x=120\n",
    "y=6\n",
    "return 120*6=720\n",
    "x=720\n",
    "y=7\n",
    "return 720*7=5040\n",
    "x=5040\n",
    "y=8\n",
    "return 40320"
   ]
  },
  {
   "cell_type": "code",
   "execution_count": null,
   "id": "1e997cf9",
   "metadata": {},
   "outputs": [],
   "source": [
    "reduce(function,iterable_object)\n",
    "range(1,int(input())+1)"
   ]
  },
  {
   "cell_type": "code",
   "execution_count": 15,
   "id": "ca041f6f",
   "metadata": {},
   "outputs": [
    {
     "data": {
      "text/plain": [
       "21"
      ]
     },
     "execution_count": 15,
     "metadata": {},
     "output_type": "execute_result"
    }
   ],
   "source": [
    "ls=[1,2,3,4,5,6]\n",
    "reduce(lambda x,y:x+y,ls)"
   ]
  },
  {
   "cell_type": "markdown",
   "id": "00acaa65",
   "metadata": {},
   "source": [
    "Question-4:With a given integral number n, write a program to generate a dictionary that contains (i, i x i) such that is an integral number between 1 and n (both included). and then the program should print the dictionary.Suppose the following input is supplied to the program: 8\n",
    "\n",
    "Then, the output should be:\n",
    "\n",
    "{1: 1, 2: 4, 3: 9, 4: 16, 5: 25, 6: 36, 7: 49, 8: 64}"
   ]
  },
  {
   "cell_type": "code",
   "execution_count": 16,
   "id": "3de67548",
   "metadata": {},
   "outputs": [
    {
     "name": "stdout",
     "output_type": "stream",
     "text": [
      "8\n",
      "{1: 1, 2: 4, 3: 9, 4: 16, 5: 25, 6: 36, 7: 49, 8: 64}\n"
     ]
    }
   ],
   "source": [
    "inp=int(input())\n",
    "d={}\n",
    "for i in range(1,inp+1):\n",
    "    d[i]=i*i\n",
    "print(d)"
   ]
  },
  {
   "cell_type": "code",
   "execution_count": 18,
   "id": "799d8661",
   "metadata": {},
   "outputs": [
    {
     "name": "stdout",
     "output_type": "stream",
     "text": [
      "8\n"
     ]
    },
    {
     "data": {
      "text/plain": [
       "{1: 1, 2: 4, 3: 9, 4: 16, 5: 25, 6: 36, 7: 49, 8: 64}"
      ]
     },
     "execution_count": 18,
     "metadata": {},
     "output_type": "execute_result"
    }
   ],
   "source": [
    "{i:i**2 for i in range(1,int(input())+1)}"
   ]
  },
  {
   "cell_type": "markdown",
   "id": "7d28ede3",
   "metadata": {},
   "source": [
    "Question-5: Write a program that accepts a comma separated sequence of words as input and prints the words in a comma-separated sequence after sorting them alphabetically.\n",
    "\n",
    "Suppose the following input is supplied to the program:\n",
    "\n",
    "without,hello,bag,world\n",
    "\n",
    "Then, the output should be:\n",
    "\n",
    "bag,hello,without,world"
   ]
  },
  {
   "cell_type": "code",
   "execution_count": 21,
   "id": "93ba4b38",
   "metadata": {},
   "outputs": [
    {
     "name": "stdout",
     "output_type": "stream",
     "text": [
      "without,hello,bag,world\n"
     ]
    },
    {
     "data": {
      "text/plain": [
       "'bag,hello,without,world'"
      ]
     },
     "execution_count": 21,
     "metadata": {},
     "output_type": "execute_result"
    }
   ],
   "source": [
    "inp=input()\n",
    "L=inp.split(\",\")\n",
    "sorted_list=sorted(L)\n",
    "\",\".join(sorted_list)"
   ]
  },
  {
   "cell_type": "code",
   "execution_count": 23,
   "id": "2a127723",
   "metadata": {},
   "outputs": [
    {
     "name": "stdout",
     "output_type": "stream",
     "text": [
      "without,hello,bag,world\n",
      "bag,hello,without,world\n"
     ]
    }
   ],
   "source": [
    "print(\",\".join(sorted(input().split(\",\"))))"
   ]
  },
  {
   "cell_type": "markdown",
   "id": "db500568",
   "metadata": {},
   "source": [
    "Question-6: Write a program that accepts a sentence and calculate the number of letters and digits.\n",
    "\n",
    "Suppose the following input is supplied to the program:\n",
    "\n",
    "hello world! 123\n",
    "\n",
    "Note: No Special Character to be counted!!!!\n",
    "\n",
    "Then, the output should be:\n",
    "\n",
    "LETTERS 10\n",
    "\n",
    "DIGITS 3"
   ]
  },
  {
   "cell_type": "code",
   "execution_count": 24,
   "id": "86a0b2fe",
   "metadata": {},
   "outputs": [
    {
     "name": "stdout",
     "output_type": "stream",
     "text": [
      "hello world! 123\n",
      "LETTERS 10\n",
      "DIGITS 3\n"
     ]
    }
   ],
   "source": [
    "sent=input()\n",
    "alpha=0\n",
    "digits=0\n",
    "for ch in sent:\n",
    "    if ch.isdigit():\n",
    "        digits=digits+1\n",
    "    elif ch.isalpha():\n",
    "        alpha=alpha+1\n",
    "print(\"LETTERS\",alpha)\n",
    "print(\"DIGITS\",digits)\n",
    "    "
   ]
  },
  {
   "cell_type": "markdown",
   "id": "9b6114e8",
   "metadata": {},
   "source": [
    "Question-7: Use a list comprehension to square each odd number in a list. The list is input by a sequence of comma-separated numbers. >Suppose the following input is supplied to the program:\n",
    "\n",
    "1,2,3,4,5,6,7,8,9\n",
    "\n",
    "Then, the output should be:\n",
    "\n",
    "1,9,25,49,81"
   ]
  },
  {
   "cell_type": "code",
   "execution_count": 31,
   "id": "596ff9e4",
   "metadata": {},
   "outputs": [
    {
     "name": "stdout",
     "output_type": "stream",
     "text": [
      "1,2,3,4,5,6,7,8,9\n"
     ]
    },
    {
     "data": {
      "text/plain": [
       "'1,9,25,49,81'"
      ]
     },
     "execution_count": 31,
     "metadata": {},
     "output_type": "execute_result"
    }
   ],
   "source": [
    "inp=input()\n",
    "ls=inp.split(\",\")\n",
    "newls=[str(int(i)**2) for i in ls if int(i)%2!=0]\n",
    "\",\".join(newls)"
   ]
  },
  {
   "cell_type": "code",
   "execution_count": 32,
   "id": "1289a63a",
   "metadata": {},
   "outputs": [
    {
     "name": "stdout",
     "output_type": "stream",
     "text": [
      "1,2,3,4,5,6,7,8,9\n"
     ]
    },
    {
     "data": {
      "text/plain": [
       "'1,9,25,49,81'"
      ]
     },
     "execution_count": 32,
     "metadata": {},
     "output_type": "execute_result"
    }
   ],
   "source": [
    "\",\".join([str(int(i)**2) for i in input().split(\",\") if int(i)%2!=0])"
   ]
  },
  {
   "cell_type": "code",
   "execution_count": null,
   "id": "85614b6e",
   "metadata": {},
   "outputs": [],
   "source": []
  }
 ],
 "metadata": {
  "language_info": {
   "codemirror_mode": {
    "name": "ipython",
    "version": 3
   },
   "file_extension": ".py",
   "mimetype": "text/x-python",
   "name": "python",
   "nbconvert_exporter": "python",
   "pygments_lexer": "ipython3",
   "version": "3.8.8"
  }
 },
 "nbformat": 4,
 "nbformat_minor": 5
}