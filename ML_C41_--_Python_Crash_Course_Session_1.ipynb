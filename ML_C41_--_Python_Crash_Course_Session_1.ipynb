{
 "cells": [
  {
   "cell_type": "code",
   "execution_count": 2,
   "id": "1108006b",
   "metadata": {},
   "outputs": [
    {
     "name": "stdout",
     "output_type": "stream",
     "text": [
      "This is out first session of Python\n",
      "4\n"
     ]
    }
   ],
   "source": [
    "## Print Statement\n",
    "print(\"This is out first session of Python\")\n",
    "print(4)"
   ]
  },
  {
   "cell_type": "code",
   "execution_count": 23,
   "id": "866f3a9b",
   "metadata": {},
   "outputs": [],
   "source": [
    "## Running the code\n",
    "## Shift + Enter"
   ]
  },
  {
   "cell_type": "code",
   "execution_count": 3,
   "id": "eaab7350",
   "metadata": {},
   "outputs": [],
   "source": [
    "var=6\n",
    "## var is a variable whose value is 6"
   ]
  },
  {
   "cell_type": "code",
   "execution_count": 4,
   "id": "30e990eb",
   "metadata": {},
   "outputs": [
    {
     "name": "stdout",
     "output_type": "stream",
     "text": [
      "6\n"
     ]
    }
   ],
   "source": [
    "print(var)"
   ]
  },
  {
   "cell_type": "code",
   "execution_count": null,
   "id": "fca479e3",
   "metadata": {},
   "outputs": [],
   "source": [
    "# Rules\n",
    "1. A variable name must start with a letter or the underscore character\n",
    "2. A variable name cannot start with a number\n",
    "3. A variable name can only contain alpha-numeric characters and underscores (A-z, 0-9, and _ )\n",
    "4. Variable names are case-sensitive (age, Age and AGE are three different variables)\n"
   ]
  },
  {
   "cell_type": "code",
   "execution_count": null,
   "id": "2b89ec9b",
   "metadata": {},
   "outputs": [],
   "source": [
    "_var --> correct name\n",
    "var --> correct name\n",
    "12var--> wrong name\n",
    "@var --> wrong\n",
    "var#yuo--> wrong name\n",
    "type_data --> correct\n",
    "type$data--> wrong\n",
    "var123--> correct"
   ]
  },
  {
   "cell_type": "code",
   "execution_count": 7,
   "id": "be9c6cfa",
   "metadata": {},
   "outputs": [],
   "source": [
    "var=6\n",
    "VAR=7\n",
    "Var=8"
   ]
  },
  {
   "cell_type": "code",
   "execution_count": 8,
   "id": "04547461",
   "metadata": {},
   "outputs": [
    {
     "name": "stdout",
     "output_type": "stream",
     "text": [
      "6 7 8\n"
     ]
    }
   ],
   "source": [
    "print(var,VAR,Var)"
   ]
  },
  {
   "cell_type": "code",
   "execution_count": 9,
   "id": "0c7f59f8",
   "metadata": {},
   "outputs": [],
   "source": [
    "## Data Types"
   ]
  },
  {
   "cell_type": "markdown",
   "id": "5a9818c4",
   "metadata": {},
   "source": [
    "## Integer (Complete Value)"
   ]
  },
  {
   "cell_type": "code",
   "execution_count": 10,
   "id": "991d8af4",
   "metadata": {},
   "outputs": [],
   "source": [
    "var=6"
   ]
  },
  {
   "cell_type": "code",
   "execution_count": 11,
   "id": "b78b5ec7",
   "metadata": {},
   "outputs": [
    {
     "data": {
      "text/plain": [
       "int"
      ]
     },
     "execution_count": 11,
     "metadata": {},
     "output_type": "execute_result"
    }
   ],
   "source": [
    "type(var)\n",
    "#type is the function to check the data type"
   ]
  },
  {
   "cell_type": "code",
   "execution_count": 12,
   "id": "aa2e162c",
   "metadata": {},
   "outputs": [
    {
     "data": {
      "text/plain": [
       "int"
      ]
     },
     "execution_count": 12,
     "metadata": {},
     "output_type": "execute_result"
    }
   ],
   "source": [
    "num=8\n",
    "type(num)"
   ]
  },
  {
   "cell_type": "markdown",
   "id": "9a2b95c5",
   "metadata": {},
   "source": [
    "## Float (Decimal values)"
   ]
  },
  {
   "cell_type": "code",
   "execution_count": 13,
   "id": "517c648e",
   "metadata": {},
   "outputs": [
    {
     "data": {
      "text/plain": [
       "float"
      ]
     },
     "execution_count": 13,
     "metadata": {},
     "output_type": "execute_result"
    }
   ],
   "source": [
    "var=9.8\n",
    "type(var)"
   ]
  },
  {
   "cell_type": "code",
   "execution_count": 14,
   "id": "0238a204",
   "metadata": {},
   "outputs": [
    {
     "data": {
      "text/plain": [
       "float"
      ]
     },
     "execution_count": 14,
     "metadata": {},
     "output_type": "execute_result"
    }
   ],
   "source": [
    "num=9.8097\n",
    "type(num)"
   ]
  },
  {
   "cell_type": "markdown",
   "id": "e37e7f76",
   "metadata": {},
   "source": [
    "## String (Sequence of characters)\n",
    "#### ESC + M"
   ]
  },
  {
   "cell_type": "code",
   "execution_count": 21,
   "id": "6b88024d",
   "metadata": {},
   "outputs": [
    {
     "data": {
      "text/plain": [
       "str"
      ]
     },
     "execution_count": 21,
     "metadata": {},
     "output_type": "execute_result"
    }
   ],
   "source": [
    "var='Upgrad'\n",
    "type(var)"
   ]
  },
  {
   "cell_type": "code",
   "execution_count": 17,
   "id": "734b868c",
   "metadata": {},
   "outputs": [
    {
     "data": {
      "text/plain": [
       "str"
      ]
     },
     "execution_count": 17,
     "metadata": {},
     "output_type": "execute_result"
    }
   ],
   "source": [
    "var=\"I love Python\"\n",
    "type(var)"
   ]
  },
  {
   "cell_type": "markdown",
   "id": "6b7ff238",
   "metadata": {},
   "source": [
    "## Boolean"
   ]
  },
  {
   "cell_type": "code",
   "execution_count": 18,
   "id": "761033eb",
   "metadata": {},
   "outputs": [
    {
     "data": {
      "text/plain": [
       "bool"
      ]
     },
     "execution_count": 18,
     "metadata": {},
     "output_type": "execute_result"
    }
   ],
   "source": [
    "var=True\n",
    "type(var)"
   ]
  },
  {
   "cell_type": "code",
   "execution_count": 19,
   "id": "f5582bcb",
   "metadata": {},
   "outputs": [
    {
     "data": {
      "text/plain": [
       "bool"
      ]
     },
     "execution_count": 19,
     "metadata": {},
     "output_type": "execute_result"
    }
   ],
   "source": [
    "var=False\n",
    "type(var)"
   ]
  },
  {
   "cell_type": "markdown",
   "id": "0388df3e",
   "metadata": {},
   "source": [
    "## Mathematical Operations"
   ]
  },
  {
   "cell_type": "markdown",
   "id": "ceeb781c",
   "metadata": {},
   "source": [
    "#### Addition (+)"
   ]
  },
  {
   "cell_type": "code",
   "execution_count": 27,
   "id": "15e9bca7",
   "metadata": {},
   "outputs": [
    {
     "name": "stdout",
     "output_type": "stream",
     "text": [
      "16\n",
      "16\n"
     ]
    }
   ],
   "source": [
    "x=7\n",
    "y=9\n",
    "z=x+y\n",
    "print(z)\n",
    "print(x+y)"
   ]
  },
  {
   "cell_type": "markdown",
   "id": "b14e8eef",
   "metadata": {},
   "source": [
    "#### Subtraction (-)"
   ]
  },
  {
   "cell_type": "code",
   "execution_count": 28,
   "id": "c8e02ac1",
   "metadata": {},
   "outputs": [
    {
     "name": "stdout",
     "output_type": "stream",
     "text": [
      "1\n",
      "1\n"
     ]
    }
   ],
   "source": [
    "x=10\n",
    "y=9\n",
    "z=x-y\n",
    "print(z)\n",
    "print(x-y)"
   ]
  },
  {
   "cell_type": "markdown",
   "id": "6780a171",
   "metadata": {},
   "source": [
    "#### Multiplication (*)"
   ]
  },
  {
   "cell_type": "code",
   "execution_count": 30,
   "id": "d0f20147",
   "metadata": {},
   "outputs": [
    {
     "name": "stdout",
     "output_type": "stream",
     "text": [
      "80\n",
      "80\n"
     ]
    }
   ],
   "source": [
    "x=8\n",
    "y=10\n",
    "z=x*y\n",
    "print(z)\n",
    "print(x*y)"
   ]
  },
  {
   "cell_type": "markdown",
   "id": "55731cd5",
   "metadata": {},
   "source": [
    "#### Modulus Operator (%) (Remainder Operator)"
   ]
  },
  {
   "cell_type": "code",
   "execution_count": 31,
   "id": "001d738b",
   "metadata": {},
   "outputs": [
    {
     "name": "stdout",
     "output_type": "stream",
     "text": [
      "9\n",
      "9\n"
     ]
    }
   ],
   "source": [
    "x=99\n",
    "y=10\n",
    "z=x%y\n",
    "print(z)\n",
    "print(x%y)"
   ]
  },
  {
   "cell_type": "code",
   "execution_count": 32,
   "id": "e814cd1c",
   "metadata": {},
   "outputs": [
    {
     "name": "stdout",
     "output_type": "stream",
     "text": [
      "3\n",
      "3\n"
     ]
    }
   ],
   "source": [
    "x=45\n",
    "y=7\n",
    "z=x%y\n",
    "print(z)\n",
    "print(x%y)"
   ]
  },
  {
   "cell_type": "markdown",
   "id": "b4779c2e",
   "metadata": {},
   "source": [
    "#### Float Type Division (/)\n",
    "#### Exact value of result"
   ]
  },
  {
   "cell_type": "code",
   "execution_count": 34,
   "id": "4ff84f6c",
   "metadata": {},
   "outputs": [
    {
     "name": "stdout",
     "output_type": "stream",
     "text": [
      "6.428571428571429\n"
     ]
    }
   ],
   "source": [
    "x=45\n",
    "y=7\n",
    "z=x/y\n",
    "print(z)"
   ]
  },
  {
   "cell_type": "markdown",
   "id": "ad06d770",
   "metadata": {},
   "source": [
    "#### Integer Type Division (//)\n",
    "#### It gives the result after trimming the decimal part"
   ]
  },
  {
   "cell_type": "code",
   "execution_count": 35,
   "id": "373949da",
   "metadata": {},
   "outputs": [
    {
     "name": "stdout",
     "output_type": "stream",
     "text": [
      "6\n"
     ]
    }
   ],
   "source": [
    "x=45\n",
    "y=7\n",
    "z=x//y\n",
    "print(z)"
   ]
  },
  {
   "cell_type": "markdown",
   "id": "f5ff47a4",
   "metadata": {},
   "source": [
    "#### Round"
   ]
  },
  {
   "cell_type": "code",
   "execution_count": 42,
   "id": "689d116e",
   "metadata": {},
   "outputs": [
    {
     "data": {
      "text/plain": [
       "6.0"
      ]
     },
     "execution_count": 42,
     "metadata": {},
     "output_type": "execute_result"
    }
   ],
   "source": [
    "x=45\n",
    "y=7\n",
    "z=x/y\n",
    "round(z,0)"
   ]
  },
  {
   "cell_type": "markdown",
   "id": "3801d222",
   "metadata": {},
   "source": [
    "#### Power (**)"
   ]
  },
  {
   "cell_type": "code",
   "execution_count": 40,
   "id": "d70014a8",
   "metadata": {},
   "outputs": [
    {
     "name": "stdout",
     "output_type": "stream",
     "text": [
      "1024\n",
      "1024\n"
     ]
    }
   ],
   "source": [
    "## 2**10\n",
    "x=2\n",
    "y=10\n",
    "z=x**y\n",
    "print(z)\n",
    "print(x**y)"
   ]
  },
  {
   "cell_type": "code",
   "execution_count": 41,
   "id": "5cfd4cf3",
   "metadata": {},
   "outputs": [
    {
     "name": "stdout",
     "output_type": "stream",
     "text": [
      "27\n",
      "27\n"
     ]
    }
   ],
   "source": [
    "## 3**3\n",
    "x=3\n",
    "y=3\n",
    "z=x**y\n",
    "print(z)\n",
    "print(x**y)"
   ]
  },
  {
   "cell_type": "markdown",
   "id": "08a4dd82",
   "metadata": {},
   "source": [
    "## Data Type Conversion"
   ]
  },
  {
   "cell_type": "code",
   "execution_count": 43,
   "id": "75d26f30",
   "metadata": {},
   "outputs": [],
   "source": [
    "var=5"
   ]
  },
  {
   "cell_type": "code",
   "execution_count": 44,
   "id": "1000b27b",
   "metadata": {},
   "outputs": [
    {
     "data": {
      "text/plain": [
       "int"
      ]
     },
     "execution_count": 44,
     "metadata": {},
     "output_type": "execute_result"
    }
   ],
   "source": [
    "type(var)"
   ]
  },
  {
   "cell_type": "code",
   "execution_count": null,
   "id": "197a4f9c",
   "metadata": {},
   "outputs": [],
   "source": [
    "5---> 5.0\n",
    "5---> \"5\""
   ]
  },
  {
   "cell_type": "code",
   "execution_count": 45,
   "id": "c742859b",
   "metadata": {},
   "outputs": [],
   "source": [
    "var2=float(var)\n",
    "var3=str(var)"
   ]
  },
  {
   "cell_type": "code",
   "execution_count": 47,
   "id": "510eef33",
   "metadata": {},
   "outputs": [
    {
     "data": {
      "text/plain": [
       "(5, 5.0, '5')"
      ]
     },
     "execution_count": 47,
     "metadata": {},
     "output_type": "execute_result"
    }
   ],
   "source": [
    "var,var2,var3"
   ]
  },
  {
   "cell_type": "code",
   "execution_count": 48,
   "id": "21d67b71",
   "metadata": {},
   "outputs": [
    {
     "data": {
      "text/plain": [
       "float"
      ]
     },
     "execution_count": 48,
     "metadata": {},
     "output_type": "execute_result"
    }
   ],
   "source": [
    "type(var2)"
   ]
  },
  {
   "cell_type": "code",
   "execution_count": 49,
   "id": "1143f0f2",
   "metadata": {},
   "outputs": [
    {
     "data": {
      "text/plain": [
       "str"
      ]
     },
     "execution_count": 49,
     "metadata": {},
     "output_type": "execute_result"
    }
   ],
   "source": [
    "type(var3)"
   ]
  },
  {
   "cell_type": "code",
   "execution_count": 50,
   "id": "6905a72f",
   "metadata": {},
   "outputs": [],
   "source": [
    "string=\"Upgrad\""
   ]
  },
  {
   "cell_type": "code",
   "execution_count": 51,
   "id": "a6a2a73d",
   "metadata": {},
   "outputs": [
    {
     "data": {
      "text/plain": [
       "str"
      ]
     },
     "execution_count": 51,
     "metadata": {},
     "output_type": "execute_result"
    }
   ],
   "source": [
    "type(string)"
   ]
  },
  {
   "cell_type": "code",
   "execution_count": 52,
   "id": "0c86954c",
   "metadata": {},
   "outputs": [
    {
     "ename": "ValueError",
     "evalue": "could not convert string to float: 'Upgrad'",
     "output_type": "error",
     "traceback": [
      "\u001b[0;31m---------------------------------------------------------------------------\u001b[0m",
      "\u001b[0;31mValueError\u001b[0m                                Traceback (most recent call last)",
      "\u001b[0;32m<ipython-input-52-e16934b975b0>\u001b[0m in \u001b[0;36m<module>\u001b[0;34m\u001b[0m\n\u001b[0;32m----> 1\u001b[0;31m \u001b[0mvar2\u001b[0m\u001b[0;34m=\u001b[0m\u001b[0mfloat\u001b[0m\u001b[0;34m(\u001b[0m\u001b[0mstring\u001b[0m\u001b[0;34m)\u001b[0m\u001b[0;34m\u001b[0m\u001b[0;34m\u001b[0m\u001b[0m\n\u001b[0m",
      "\u001b[0;31mValueError\u001b[0m: could not convert string to float: 'Upgrad'"
     ]
    }
   ],
   "source": [
    "var2=float(string)"
   ]
  },
  {
   "cell_type": "code",
   "execution_count": 53,
   "id": "5a86b269",
   "metadata": {},
   "outputs": [
    {
     "ename": "ValueError",
     "evalue": "invalid literal for int() with base 10: 'Upgrad'",
     "output_type": "error",
     "traceback": [
      "\u001b[0;31m---------------------------------------------------------------------------\u001b[0m",
      "\u001b[0;31mValueError\u001b[0m                                Traceback (most recent call last)",
      "\u001b[0;32m<ipython-input-53-090d3792078c>\u001b[0m in \u001b[0;36m<module>\u001b[0;34m\u001b[0m\n\u001b[0;32m----> 1\u001b[0;31m \u001b[0mvar2\u001b[0m\u001b[0;34m=\u001b[0m\u001b[0mint\u001b[0m\u001b[0;34m(\u001b[0m\u001b[0mstring\u001b[0m\u001b[0;34m)\u001b[0m\u001b[0;34m\u001b[0m\u001b[0;34m\u001b[0m\u001b[0m\n\u001b[0m",
      "\u001b[0;31mValueError\u001b[0m: invalid literal for int() with base 10: 'Upgrad'"
     ]
    }
   ],
   "source": [
    "var2=int(string)"
   ]
  },
  {
   "cell_type": "code",
   "execution_count": 64,
   "id": "9865f420",
   "metadata": {},
   "outputs": [],
   "source": [
    "string=\"23.4\""
   ]
  },
  {
   "cell_type": "code",
   "execution_count": 65,
   "id": "34e14ee6",
   "metadata": {},
   "outputs": [
    {
     "data": {
      "text/plain": [
       "str"
      ]
     },
     "execution_count": 65,
     "metadata": {},
     "output_type": "execute_result"
    }
   ],
   "source": [
    "type(string)"
   ]
  },
  {
   "cell_type": "code",
   "execution_count": 66,
   "id": "3f667315",
   "metadata": {},
   "outputs": [],
   "source": [
    "var2=float(string)"
   ]
  },
  {
   "cell_type": "code",
   "execution_count": 67,
   "id": "1f9f6360",
   "metadata": {},
   "outputs": [
    {
     "data": {
      "text/plain": [
       "(23.4, float)"
      ]
     },
     "execution_count": 67,
     "metadata": {},
     "output_type": "execute_result"
    }
   ],
   "source": [
    "var2,type(var2)"
   ]
  },
  {
   "cell_type": "code",
   "execution_count": 68,
   "id": "ee05eb36",
   "metadata": {},
   "outputs": [
    {
     "ename": "ValueError",
     "evalue": "invalid literal for int() with base 10: '23.4'",
     "output_type": "error",
     "traceback": [
      "\u001b[0;31m---------------------------------------------------------------------------\u001b[0m",
      "\u001b[0;31mValueError\u001b[0m                                Traceback (most recent call last)",
      "\u001b[0;32m<ipython-input-68-4fc983914dbc>\u001b[0m in \u001b[0;36m<module>\u001b[0;34m\u001b[0m\n\u001b[0;32m----> 1\u001b[0;31m \u001b[0mvar3\u001b[0m\u001b[0;34m=\u001b[0m\u001b[0mint\u001b[0m\u001b[0;34m(\u001b[0m\u001b[0mstring\u001b[0m\u001b[0;34m)\u001b[0m\u001b[0;34m\u001b[0m\u001b[0;34m\u001b[0m\u001b[0m\n\u001b[0m",
      "\u001b[0;31mValueError\u001b[0m: invalid literal for int() with base 10: '23.4'"
     ]
    }
   ],
   "source": [
    "var3=int(string)"
   ]
  },
  {
   "cell_type": "code",
   "execution_count": 69,
   "id": "052c2440",
   "metadata": {},
   "outputs": [
    {
     "data": {
      "text/plain": [
       "(23, int)"
      ]
     },
     "execution_count": 69,
     "metadata": {},
     "output_type": "execute_result"
    }
   ],
   "source": [
    "var3,type(var3)"
   ]
  },
  {
   "cell_type": "code",
   "execution_count": 61,
   "id": "c4665cbe",
   "metadata": {},
   "outputs": [
    {
     "data": {
      "text/plain": [
       "('23', 23.0, 23)"
      ]
     },
     "execution_count": 61,
     "metadata": {},
     "output_type": "execute_result"
    }
   ],
   "source": [
    "string,var2,var3"
   ]
  },
  {
   "cell_type": "code",
   "execution_count": 63,
   "id": "1c8d8c3a",
   "metadata": {},
   "outputs": [
    {
     "ename": "ValueError",
     "evalue": "invalid literal for int() with base 10: 'two'",
     "output_type": "error",
     "traceback": [
      "\u001b[0;31m---------------------------------------------------------------------------\u001b[0m",
      "\u001b[0;31mValueError\u001b[0m                                Traceback (most recent call last)",
      "\u001b[0;32m<ipython-input-63-f9eb28b86420>\u001b[0m in \u001b[0;36m<module>\u001b[0;34m\u001b[0m\n\u001b[1;32m      1\u001b[0m \u001b[0mstring\u001b[0m\u001b[0;34m=\u001b[0m\u001b[0;34m\"two\"\u001b[0m\u001b[0;34m\u001b[0m\u001b[0;34m\u001b[0m\u001b[0m\n\u001b[0;32m----> 2\u001b[0;31m \u001b[0mint\u001b[0m\u001b[0;34m(\u001b[0m\u001b[0mstring\u001b[0m\u001b[0;34m)\u001b[0m\u001b[0;34m\u001b[0m\u001b[0;34m\u001b[0m\u001b[0m\n\u001b[0m",
      "\u001b[0;31mValueError\u001b[0m: invalid literal for int() with base 10: 'two'"
     ]
    }
   ],
   "source": [
    "string=\"two\"\n",
    "int(string)"
   ]
  },
  {
   "cell_type": "markdown",
   "id": "b39cb8c6",
   "metadata": {},
   "source": [
    "## ASCII Values"
   ]
  },
  {
   "cell_type": "code",
   "execution_count": 70,
   "id": "2696508a",
   "metadata": {},
   "outputs": [
    {
     "data": {
      "text/plain": [
       "65"
      ]
     },
     "execution_count": 70,
     "metadata": {},
     "output_type": "execute_result"
    }
   ],
   "source": [
    "ord(\"A\")"
   ]
  },
  {
   "cell_type": "code",
   "execution_count": 71,
   "id": "875e828d",
   "metadata": {},
   "outputs": [
    {
     "data": {
      "text/plain": [
       "97"
      ]
     },
     "execution_count": 71,
     "metadata": {},
     "output_type": "execute_result"
    }
   ],
   "source": [
    "ord(\"a\")"
   ]
  },
  {
   "cell_type": "code",
   "execution_count": 72,
   "id": "5d1b7531",
   "metadata": {},
   "outputs": [
    {
     "data": {
      "text/plain": [
       "63"
      ]
     },
     "execution_count": 72,
     "metadata": {},
     "output_type": "execute_result"
    }
   ],
   "source": [
    "ord(\"?\")"
   ]
  },
  {
   "cell_type": "code",
   "execution_count": 73,
   "id": "90d8b395",
   "metadata": {},
   "outputs": [
    {
     "data": {
      "text/plain": [
       "'-'"
      ]
     },
     "execution_count": 73,
     "metadata": {},
     "output_type": "execute_result"
    }
   ],
   "source": [
    "chr(45)"
   ]
  },
  {
   "cell_type": "code",
   "execution_count": 74,
   "id": "e0dc16fa",
   "metadata": {},
   "outputs": [
    {
     "data": {
      "text/plain": [
       "'a'"
      ]
     },
     "execution_count": 74,
     "metadata": {},
     "output_type": "execute_result"
    }
   ],
   "source": [
    "chr(97)"
   ]
  },
  {
   "cell_type": "code",
   "execution_count": 75,
   "id": "4e8ef6dc",
   "metadata": {},
   "outputs": [
    {
     "data": {
      "text/plain": [
       "'A'"
      ]
     },
     "execution_count": 75,
     "metadata": {},
     "output_type": "execute_result"
    }
   ],
   "source": [
    "chr(65)"
   ]
  },
  {
   "cell_type": "code",
   "execution_count": 76,
   "id": "70c29af2",
   "metadata": {},
   "outputs": [
    {
     "data": {
      "text/plain": [
       "46"
      ]
     },
     "execution_count": 76,
     "metadata": {},
     "output_type": "execute_result"
    }
   ],
   "source": [
    "ord(\".\")"
   ]
  },
  {
   "cell_type": "code",
   "execution_count": 79,
   "id": "54ba6835",
   "metadata": {},
   "outputs": [
    {
     "data": {
      "text/plain": [
       "123"
      ]
     },
     "execution_count": 79,
     "metadata": {},
     "output_type": "execute_result"
    }
   ],
   "source": [
    "ord(\"{\")"
   ]
  },
  {
   "cell_type": "markdown",
   "id": "aff1a726",
   "metadata": {},
   "source": [
    "## String Operations"
   ]
  },
  {
   "cell_type": "code",
   "execution_count": 80,
   "id": "fc12729d",
   "metadata": {},
   "outputs": [],
   "source": [
    "## Concatenation"
   ]
  },
  {
   "cell_type": "code",
   "execution_count": 83,
   "id": "574860ca",
   "metadata": {},
   "outputs": [
    {
     "name": "stdout",
     "output_type": "stream",
     "text": [
      "I love Python\n"
     ]
    }
   ],
   "source": [
    "str1=\"I\"\n",
    "str2=\"love\"\n",
    "str3=\"Python\"\n",
    "string=str1+\" \"+str2+\" \"+str3\n",
    "print(string)"
   ]
  },
  {
   "cell_type": "code",
   "execution_count": 88,
   "id": "a9f6e4a5",
   "metadata": {},
   "outputs": [
    {
     "name": "stdout",
     "output_type": "stream",
     "text": [
      "UpgradUpgradUpgradUpgradUpgradUpgradUpgradUpgradUpgradUpgradUpgradUpgradUpgradUpgradUpgradUpgradUpgradUpgradUpgradUpgradUpgradUpgradUpgradUpgradUpgradUpgradUpgradUpgradUpgradUpgradUpgradUpgradUpgradUpgradUpgradUpgradUpgradUpgradUpgradUpgradUpgradUpgradUpgradUpgradUpgradUpgradUpgradUpgradUpgradUpgrad\n"
     ]
    },
    {
     "data": {
      "text/plain": [
       "'Upgrad'"
      ]
     },
     "execution_count": 88,
     "metadata": {},
     "output_type": "execute_result"
    }
   ],
   "source": [
    "str1=\"Upgrad\"\n",
    "print(str1*50)\n",
    "str1"
   ]
  },
  {
   "cell_type": "markdown",
   "id": "9e597c4e",
   "metadata": {},
   "source": [
    "## Length of the String"
   ]
  },
  {
   "cell_type": "code",
   "execution_count": 89,
   "id": "bc1c3087",
   "metadata": {},
   "outputs": [
    {
     "data": {
      "text/plain": [
       "13"
      ]
     },
     "execution_count": 89,
     "metadata": {},
     "output_type": "execute_result"
    }
   ],
   "source": [
    "len(string)"
   ]
  },
  {
   "cell_type": "code",
   "execution_count": 90,
   "id": "8319ed94",
   "metadata": {},
   "outputs": [
    {
     "data": {
      "text/plain": [
       "'I love Python'"
      ]
     },
     "execution_count": 90,
     "metadata": {},
     "output_type": "execute_result"
    }
   ],
   "source": [
    "string"
   ]
  },
  {
   "cell_type": "code",
   "execution_count": 93,
   "id": "f4bf83fd",
   "metadata": {},
   "outputs": [
    {
     "data": {
      "text/plain": [
       "3"
      ]
     },
     "execution_count": 93,
     "metadata": {},
     "output_type": "execute_result"
    }
   ],
   "source": [
    "len(\"   \")"
   ]
  },
  {
   "cell_type": "markdown",
   "id": "f74f3aa9",
   "metadata": {},
   "source": [
    "isdigit()"
   ]
  },
  {
   "cell_type": "code",
   "execution_count": 100,
   "id": "77cf925f",
   "metadata": {},
   "outputs": [
    {
     "data": {
      "text/plain": [
       "True"
      ]
     },
     "execution_count": 100,
     "metadata": {},
     "output_type": "execute_result"
    }
   ],
   "source": [
    "inp=\"5\"\n",
    "inp.isdigit()\n",
    "# To check whether the given input string is digit or not"
   ]
  },
  {
   "cell_type": "code",
   "execution_count": 101,
   "id": "cfdb6af5",
   "metadata": {},
   "outputs": [
    {
     "data": {
      "text/plain": [
       "False"
      ]
     },
     "execution_count": 101,
     "metadata": {},
     "output_type": "execute_result"
    }
   ],
   "source": [
    "inp=\"5.4\"\n",
    "inp.isdigit()"
   ]
  },
  {
   "cell_type": "markdown",
   "id": "0a4f50bd",
   "metadata": {},
   "source": [
    "#### isalpha()"
   ]
  },
  {
   "cell_type": "code",
   "execution_count": 102,
   "id": "ac1a0635",
   "metadata": {},
   "outputs": [
    {
     "data": {
      "text/plain": [
       "True"
      ]
     },
     "execution_count": 102,
     "metadata": {},
     "output_type": "execute_result"
    }
   ],
   "source": [
    "string=\"Upgrad\"\n",
    "string.isalpha()"
   ]
  },
  {
   "cell_type": "code",
   "execution_count": 104,
   "id": "e1eefed0",
   "metadata": {},
   "outputs": [
    {
     "data": {
      "text/plain": [
       "False"
      ]
     },
     "execution_count": 104,
     "metadata": {},
     "output_type": "execute_result"
    }
   ],
   "source": [
    "string=\"Upgrad_\"\n",
    "string.isalpha()"
   ]
  },
  {
   "cell_type": "code",
   "execution_count": 105,
   "id": "09e020c3",
   "metadata": {},
   "outputs": [
    {
     "data": {
      "text/plain": [
       "False"
      ]
     },
     "execution_count": 105,
     "metadata": {},
     "output_type": "execute_result"
    }
   ],
   "source": [
    "string=\"I love python\"\n",
    "string.isalpha()"
   ]
  },
  {
   "cell_type": "code",
   "execution_count": 106,
   "id": "d70ddf90",
   "metadata": {},
   "outputs": [
    {
     "data": {
      "text/plain": [
       "True"
      ]
     },
     "execution_count": 106,
     "metadata": {},
     "output_type": "execute_result"
    }
   ],
   "source": [
    "string=\"Ilovepython\"\n",
    "string.isalpha()"
   ]
  },
  {
   "cell_type": "markdown",
   "id": "dbe5568c",
   "metadata": {},
   "source": [
    "#### isalnum()"
   ]
  },
  {
   "cell_type": "code",
   "execution_count": 107,
   "id": "5ad681c8",
   "metadata": {},
   "outputs": [
    {
     "data": {
      "text/plain": [
       "True"
      ]
     },
     "execution_count": 107,
     "metadata": {},
     "output_type": "execute_result"
    }
   ],
   "source": [
    "string=\"Upgrad123\"\n",
    "string.isalnum()"
   ]
  },
  {
   "cell_type": "code",
   "execution_count": 108,
   "id": "6d872b78",
   "metadata": {},
   "outputs": [
    {
     "data": {
      "text/plain": [
       "True"
      ]
     },
     "execution_count": 108,
     "metadata": {},
     "output_type": "execute_result"
    }
   ],
   "source": [
    "string=\"Upgrad\"\n",
    "string.isalnum()"
   ]
  },
  {
   "cell_type": "code",
   "execution_count": 109,
   "id": "addfa3d3",
   "metadata": {},
   "outputs": [
    {
     "data": {
      "text/plain": [
       "False"
      ]
     },
     "execution_count": 109,
     "metadata": {},
     "output_type": "execute_result"
    }
   ],
   "source": [
    "string=\"Upgrad_\"\n",
    "string.isalnum()"
   ]
  },
  {
   "cell_type": "markdown",
   "id": "5e3420d1",
   "metadata": {},
   "source": [
    "#### isupper() and islower()"
   ]
  },
  {
   "cell_type": "code",
   "execution_count": 110,
   "id": "b7fa3b91",
   "metadata": {},
   "outputs": [
    {
     "data": {
      "text/plain": [
       "True"
      ]
     },
     "execution_count": 110,
     "metadata": {},
     "output_type": "execute_result"
    }
   ],
   "source": [
    "string=\"UPGRAD\"\n",
    "string.isupper()"
   ]
  },
  {
   "cell_type": "code",
   "execution_count": 111,
   "id": "b7a5ab01",
   "metadata": {},
   "outputs": [
    {
     "data": {
      "text/plain": [
       "False"
      ]
     },
     "execution_count": 111,
     "metadata": {},
     "output_type": "execute_result"
    }
   ],
   "source": [
    "string=\"UPGRAD\"\n",
    "string.islower()"
   ]
  },
  {
   "cell_type": "code",
   "execution_count": 112,
   "id": "d6f3cc36",
   "metadata": {},
   "outputs": [
    {
     "data": {
      "text/plain": [
       "False"
      ]
     },
     "execution_count": 112,
     "metadata": {},
     "output_type": "execute_result"
    }
   ],
   "source": [
    "string=\"upgrad\"\n",
    "string.isupper()"
   ]
  },
  {
   "cell_type": "code",
   "execution_count": 113,
   "id": "72e83cb6",
   "metadata": {},
   "outputs": [
    {
     "data": {
      "text/plain": [
       "True"
      ]
     },
     "execution_count": 113,
     "metadata": {},
     "output_type": "execute_result"
    }
   ],
   "source": [
    "string=\"upgrad\"\n",
    "string.islower()"
   ]
  },
  {
   "cell_type": "code",
   "execution_count": 114,
   "id": "16c68ca1",
   "metadata": {},
   "outputs": [
    {
     "data": {
      "text/plain": [
       "False"
      ]
     },
     "execution_count": 114,
     "metadata": {},
     "output_type": "execute_result"
    }
   ],
   "source": [
    "string=\"Upgrad\"\n",
    "string.isupper()"
   ]
  },
  {
   "cell_type": "code",
   "execution_count": 115,
   "id": "456f1637",
   "metadata": {},
   "outputs": [
    {
     "data": {
      "text/plain": [
       "False"
      ]
     },
     "execution_count": 115,
     "metadata": {},
     "output_type": "execute_result"
    }
   ],
   "source": [
    "string=\"Upgrad\"\n",
    "string.islower()"
   ]
  },
  {
   "cell_type": "code",
   "execution_count": 117,
   "id": "7ec20f07",
   "metadata": {},
   "outputs": [
    {
     "data": {
      "text/plain": [
       "False"
      ]
     },
     "execution_count": 117,
     "metadata": {},
     "output_type": "execute_result"
    }
   ],
   "source": [
    "string = \"UPGRAd123\" \n",
    "string.isupper()"
   ]
  },
  {
   "cell_type": "code",
   "execution_count": 118,
   "id": "f33fd21a",
   "metadata": {},
   "outputs": [
    {
     "data": {
      "text/plain": [
       "'upgrad'"
      ]
     },
     "execution_count": 118,
     "metadata": {},
     "output_type": "execute_result"
    }
   ],
   "source": [
    "string=\"UPGRAD\"\n",
    "string.lower()"
   ]
  },
  {
   "cell_type": "code",
   "execution_count": 119,
   "id": "b485777b",
   "metadata": {},
   "outputs": [
    {
     "data": {
      "text/plain": [
       "'UPGRAD'"
      ]
     },
     "execution_count": 119,
     "metadata": {},
     "output_type": "execute_result"
    }
   ],
   "source": [
    "string=\"upgrad\"\n",
    "string.upper()"
   ]
  },
  {
   "cell_type": "code",
   "execution_count": 120,
   "id": "24422bbd",
   "metadata": {},
   "outputs": [
    {
     "data": {
      "text/plain": [
       "'uPgRAD'"
      ]
     },
     "execution_count": 120,
     "metadata": {},
     "output_type": "execute_result"
    }
   ],
   "source": [
    "string=\"UpGrad\"\n",
    "string.swapcase()"
   ]
  },
  {
   "cell_type": "code",
   "execution_count": 121,
   "id": "e6e655d4",
   "metadata": {},
   "outputs": [
    {
     "data": {
      "text/plain": [
       "'Upgrad'"
      ]
     },
     "execution_count": 121,
     "metadata": {},
     "output_type": "execute_result"
    }
   ],
   "source": [
    "string=\"upgrad\"\n",
    "string.title()"
   ]
  },
  {
   "cell_type": "code",
   "execution_count": 122,
   "id": "444648e8",
   "metadata": {},
   "outputs": [
    {
     "data": {
      "text/plain": [
       "'Upgrad'"
      ]
     },
     "execution_count": 122,
     "metadata": {},
     "output_type": "execute_result"
    }
   ],
   "source": [
    "string=\"upgrad\"\n",
    "string.capitalize()"
   ]
  },
  {
   "cell_type": "code",
   "execution_count": 123,
   "id": "41089d69",
   "metadata": {},
   "outputs": [
    {
     "name": "stdout",
     "output_type": "stream",
     "text": [
      "I Love Python\n",
      "I love python\n"
     ]
    }
   ],
   "source": [
    "string=\"i love python\"\n",
    "print(string.title())\n",
    "print(string.capitalize())"
   ]
  },
  {
   "cell_type": "code",
   "execution_count": 124,
   "id": "71b5f3da",
   "metadata": {},
   "outputs": [],
   "source": [
    "## Split (Very Important)"
   ]
  },
  {
   "cell_type": "code",
   "execution_count": 125,
   "id": "1e59dffa",
   "metadata": {},
   "outputs": [
    {
     "data": {
      "text/plain": [
       "['I', 'love', 'python']"
      ]
     },
     "execution_count": 125,
     "metadata": {},
     "output_type": "execute_result"
    }
   ],
   "source": [
    "string=\"I love python\"\n",
    "string.split(\" \")"
   ]
  },
  {
   "cell_type": "code",
   "execution_count": 126,
   "id": "e2c5c9e0",
   "metadata": {},
   "outputs": [
    {
     "data": {
      "text/plain": [
       "['I', 'love', 'python']"
      ]
     },
     "execution_count": 126,
     "metadata": {},
     "output_type": "execute_result"
    }
   ],
   "source": [
    "string=\"I,love,python\"\n",
    "string.split(\",\")"
   ]
  },
  {
   "cell_type": "code",
   "execution_count": 127,
   "id": "4571b6fa",
   "metadata": {},
   "outputs": [
    {
     "data": {
      "text/plain": [
       "['U', 'p', 'g', 'r', 'a', 'd']"
      ]
     },
     "execution_count": 127,
     "metadata": {},
     "output_type": "execute_result"
    }
   ],
   "source": [
    "string=\"Upgrad\"\n",
    "list(string)"
   ]
  },
  {
   "cell_type": "code",
   "execution_count": null,
   "id": "667c6ba0",
   "metadata": {},
   "outputs": [],
   "source": [
    "# how to consume output of split result, will discuss tmrw"
   ]
  }
 ],
 "metadata": {
  "language_info": {
   "codemirror_mode": {
    "name": "ipython",
    "version": 3
   },
   "file_extension": ".py",
   "mimetype": "text/x-python",
   "name": "python",
   "nbconvert_exporter": "python",
   "pygments_lexer": "ipython3",
   "version": "3.8.8"
  }
 },
 "nbformat": 4,
 "nbformat_minor": 5
}